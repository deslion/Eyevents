{
 "cells": [
  {
   "cell_type": "markdown",
   "metadata": {},
   "source": [
    "## Описание метода"
   ]
  },
  {
   "cell_type": "markdown",
   "metadata": {},
   "source": [
    "Основная идея: на основании заранее подготовленных матриц вероятностей переходов (для классов) производится классификация методом максимального правдоподобия.  \n",
    "Суть состоит в следующем: предполагается, что пилот, демонстрирующий определённый уровень навыка будет на упражнении переводить взор примерно также, как это делают пилоты того же уровня.  \n",
    "Оценка принадлежности классу: по траектории движения взора классифицируемого пилота строится матрица переходов (столбец - номер зоны **из которой** совершён переход, строка - зона, **в которую** совершён переход). Затем, матрица числа переходов поэлементно умножается на матрицу логарифмов вероятностей определённых классов. Полученные значения суммируются. Пилот относится к тому классу, для которого полученная сумма **максимальна**."
   ]
  },
  {
   "cell_type": "code",
   "execution_count": 1,
   "metadata": {
    "collapsed": true
   },
   "outputs": [],
   "source": [
    "from EyeTrackingPackage.modules.python.AOI.Trajectory import Trajectory\n",
    "from EyeTrackingPackage.modules.python.AOI.PreparedTrajectory import get_transition_matrix, get_classes_probabilities\n",
    "from EyeTrackingPackage.modules.python.AOI.PreparedTrajectory import get_likelyhood_estimation\n",
    "\n",
    "from os import listdir as ls\n",
    "\n",
    "import warnings\n",
    "warnings.filterwarnings('ignore')"
   ]
  },
  {
   "cell_type": "code",
   "execution_count": 2,
   "metadata": {},
   "outputs": [
    {
     "data": {
      "application/vnd.jupyter.widget-view+json": {
       "model_id": "c4abccae26ce4af9b08cd68665110a0f",
       "version_major": 2,
       "version_minor": 0
      },
      "text/html": [
       "<p>Failed to display Jupyter Widget of type <code>HBox</code>.</p>\n",
       "<p>\n",
       "  If you're reading this message in Jupyter Notebook or JupyterLab, it may mean\n",
       "  that the widgets JavaScript is still loading. If this message persists, it\n",
       "  likely means that the widgets JavaScript library is either not installed or\n",
       "  not enabled. See the <a href=\"https://ipywidgets.readthedocs.io/en/stable/user_install.html\">Jupyter\n",
       "  Widgets Documentation</a> for setup instructions.\n",
       "</p>\n",
       "<p>\n",
       "  If you're reading this message in another notebook frontend (for example, a static\n",
       "  rendering on GitHub or <a href=\"https://nbviewer.jupyter.org/\">NBViewer</a>),\n",
       "  it may mean that your frontend doesn't currently support widgets.\n",
       "</p>\n"
      ],
      "text/plain": [
       "HBox(children=(IntProgress(value=0, max=4), HTML(value='')))"
      ]
     },
     "metadata": {},
     "output_type": "display_data"
    },
    {
     "name": "stdout",
     "output_type": "stream",
     "text": [
      "\n",
      "Class 'high_graded' was evaluated\n"
     ]
    },
    {
     "data": {
      "application/vnd.jupyter.widget-view+json": {
       "model_id": "aadc618b57f14f20881246b80de1e54d",
       "version_major": 2,
       "version_minor": 0
      },
      "text/html": [
       "<p>Failed to display Jupyter Widget of type <code>HBox</code>.</p>\n",
       "<p>\n",
       "  If you're reading this message in Jupyter Notebook or JupyterLab, it may mean\n",
       "  that the widgets JavaScript is still loading. If this message persists, it\n",
       "  likely means that the widgets JavaScript library is either not installed or\n",
       "  not enabled. See the <a href=\"https://ipywidgets.readthedocs.io/en/stable/user_install.html\">Jupyter\n",
       "  Widgets Documentation</a> for setup instructions.\n",
       "</p>\n",
       "<p>\n",
       "  If you're reading this message in another notebook frontend (for example, a static\n",
       "  rendering on GitHub or <a href=\"https://nbviewer.jupyter.org/\">NBViewer</a>),\n",
       "  it may mean that your frontend doesn't currently support widgets.\n",
       "</p>\n"
      ],
      "text/plain": [
       "HBox(children=(IntProgress(value=0, max=4), HTML(value='')))"
      ]
     },
     "metadata": {},
     "output_type": "display_data"
    },
    {
     "name": "stdout",
     "output_type": "stream",
     "text": [
      "\n",
      "Class 'low_graded' was evaluated\n"
     ]
    }
   ],
   "source": [
    "main_path = '../data/debug/'\n",
    "\n",
    "classes_paths = {\n",
    "    'high_graded': ['151.csv', '152.csv', '153.csv', '154.csv'],\n",
    "    'low_graded': ['g_1.csv', 'g_2.csv', 'g_3.csv', 'g_w.csv']\n",
    "}\n",
    "\n",
    "settings = {\n",
    "    'txy_columns': [1, 2, 3],\n",
    "    'txy_coefs': [.001, 1280, 720],\n",
    "    'min_time': True,\n",
    "    'ts_in_group': 100,\n",
    "    'cells_xy': [5, 5],\n",
    "    'empty_aoi': True\n",
    "}\n",
    "\n",
    "classes_probabilities = get_classes_probabilities(classes_paths, settings, main_path)"
   ]
  },
  {
   "cell_type": "code",
   "execution_count": 3,
   "metadata": {},
   "outputs": [
    {
     "name": "stdout",
     "output_type": "stream",
     "text": [
      "151.csv :\tпредполагаемый класс:\tlow_graded\tсумма логарифмов:\t-2050.51\n",
      "152.csv :\tпредполагаемый класс:\tlow_graded\tсумма логарифмов:\t-1404.84\n",
      "153.csv :\tпредполагаемый класс:\tlow_graded\tсумма логарифмов:\t-503.94\n",
      "154.csv :\tпредполагаемый класс:\tlow_graded\tсумма логарифмов:\t-2501.03\n",
      "294.csv :\tпредполагаемый класс:\tlow_graded\tсумма логарифмов:\t-3436.14\n",
      "295.csv :\tпредполагаемый класс:\tlow_graded\tсумма логарифмов:\t-4250.90\n",
      "296.csv :\tпредполагаемый класс:\tlow_graded\tсумма логарифмов:\t-1578.23\n",
      "297.csv :\tпредполагаемый класс:\tlow_graded\tсумма логарифмов:\t-2902.55\n",
      "298.csv :\tпредполагаемый класс:\tlow_graded\tсумма логарифмов:\t-3514.69\n",
      "81.csv  :\tпредполагаемый класс:\tlow_graded\tсумма логарифмов:\t-4672.84\n",
      "82.csv  :\tпредполагаемый класс:\tlow_graded\tсумма логарифмов:\t-4230.57\n",
      "83.csv  :\tпредполагаемый класс:\tlow_graded\tсумма логарифмов:\t-2282.61\n",
      "84.csv  :\tпредполагаемый класс:\tlow_graded\tсумма логарифмов:\t-4089.12\n",
      "g_1.csv :\tпредполагаемый класс:\tlow_graded\tсумма логарифмов:\t-1124.90\n",
      "g_2.csv :\tпредполагаемый класс:\tlow_graded\tсумма логарифмов:\t-2506.20\n",
      "g_3.csv :\tпредполагаемый класс:\tlow_graded\tсумма логарифмов:\t-1843.45\n",
      "g_w.csv :\tпредполагаемый класс:\tlow_graded\tсумма логарифмов:\t-2049.97\n",
      "k_1.csv :\tпредполагаемый класс:\tlow_graded\tсумма логарифмов:\t-2253.99\n",
      "k_2.csv :\tпредполагаемый класс:\tlow_graded\tсумма логарифмов:\t-835.13\n",
      "k_3.csv :\tпредполагаемый класс:\tlow_graded\tсумма логарифмов:\t-1925.75\n",
      "\n"
     ]
    }
   ],
   "source": [
    "res_str = ''\n",
    "\n",
    "for i in ls(main_path):\n",
    "    lhs = get_likelyhood_estimation(main_path + i, classes_probabilities, settings)\n",
    "    res_str += '{:8s}:\\tпредполагаемый класс:\\t{}\\tсумма логарифмов:\\t{:.2f}\\n'.format(\n",
    "        i, max(lhs), max(lhs.values())\n",
    "    )\n",
    "\n",
    "print(res_str)"
   ]
  }
 ],
 "metadata": {
  "kernelspec": {
   "display_name": "Python 3",
   "language": "python",
   "name": "python3"
  },
  "language_info": {
   "codemirror_mode": {
    "name": "ipython",
    "version": 3
   },
   "file_extension": ".py",
   "mimetype": "text/x-python",
   "name": "python",
   "nbconvert_exporter": "python",
   "pygments_lexer": "ipython3",
   "version": "3.6.1"
  }
 },
 "nbformat": 4,
 "nbformat_minor": 2
}
